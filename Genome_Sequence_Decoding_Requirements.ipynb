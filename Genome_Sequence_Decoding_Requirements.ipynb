{
  "cells": [
    {
      "cell_type": "markdown",
      "metadata": {
        "id": "787dba06-1216-424a-9bc9-2d428397cc43"
      },
      "source": [
        "# **Genome Sequence Decoding**"
      ],
      "id": "787dba06-1216-424a-9bc9-2d428397cc43"
    },
    {
      "cell_type": "markdown",
      "metadata": {
        "id": "fe9ae727-56e1-4491-bd5b-44f184046172"
      },
      "source": [
        "**Download the Fasta Files from ensembl database**\n",
        "\n",
        "  https://ftp.ensembl.org/pub/release-108/fasta/\n",
        "\n",
        "**Data must be fasta in directory cds**\n",
        "\n",
        "**Organisms**\n",
        "\n",
        "|Organism group|organism|\n",
        "|---|---|\n",
        "|Mammalia|Pongo_abelii|\n",
        "|Mammalia|Sarcophilus_harrisii|\n",
        "|Mammalia|Ornithorthynchus_anatinus|\n",
        "|Mammalia|Ursus_maritimus|\n",
        "|Mammalia|Rattus_norvegicus|\n",
        "|Aves|Apteryx_haastii|\n",
        "|Aves|Parus_major|\n",
        "|Aves|Otus_sunia|\n",
        "|Aves|Anas_platyrhynchos|\n",
        "|Aves|Numida_meleagris|\n",
        "|Molusca|Octupus_bimaculoides|\n",
        "|Molusca|Lottia_gigantea|\n",
        "|Molusca|Haliotis_rubra|\n",
        "|Molusca|Crassostrea_gigas|\n",
        "|Molusca|Mizuhopecten_yessoensis|\n",
        "|Osteichthyes|Anabas_testudineous|\n",
        "|Osteichthyes|Cyprinus_carpio_carpio|\n",
        "|Osteichthyes|Cottoperca_gobio|\n",
        "|Osteichthyes|Esox_lucius|\n",
        "|Osteichthyes|Denticeps_clupeoides|\n",
        "|Crustacea|Penaeus_monodon|\n",
        "|Crustacea|Daphnia_magna|\n",
        "|Crustacea|Pollicipes_pollicipes|\n",
        "|Crustacea|Hyalella_azteca|\n",
        "|Crustacea|Lepeophtheirus_salmonis|\n",
        "\n",
        "**Read and parse all fasta files**\n",
        "\n",
        "  Example: from Bio use SeqIO.parse\n",
        "\n",
        "\n",
        "**Make csv files for each organism with the following columns**\n"
      ],
      "id": "fe9ae727-56e1-4491-bd5b-44f184046172"
    },
    {
      "cell_type": "markdown",
      "metadata": {
        "id": "dac4c39d-6865-450e-a63b-3c5bd75c640e"
      },
      "source": [
        "|cds ID|cds length|GC%|ENc|GC1|GC2|GC3|\n",
        "|---|---|---|---|---|---|---|\n",
        "|XM_018157745.1|\t3366|\t53.17884729649436|\t55.82253358402565|\t56.14973262032086|\t53.03030303030303|\t50.356506238859176|\n",
        "|XM_018164080.1|\t477|\t42.9769392|\t49.11049404071809|\t50.943396226415096|\t39.62264150943396|\t38.36477987421384|\n",
        "|XM_018159337.1|\t2376|\t52.31481481481482|\t55.79995614|\t54.292929292929294|\t46.33838383838384|\t56.313131313131315|\n",
        "\n"
      ],
      "id": "dac4c39d-6865-450e-a63b-3c5bd75c640e"
    },
    {
      "cell_type": "markdown",
      "metadata": {
        "id": "f6c81f3c-6558-41f8-967c-df6daea993f0"
      },
      "source": [
        "**Columns Definition**\n",
        "\n",
        "- **cds ID** - e.g. XM_018157745.1 - first id in fasta file after >\n",
        "- **cds length** - length of sequences\n",
        "- **GC%** - see from Bio.SeqUtils import **gc_fraction**\n",
        "- **ENc** - see import codonbias as cb, enc.get_score(str(record.seq))\n",
        "- **GC1,2,3** - 1st, 2nd and 3rd part of codon\n"
      ],
      "id": "f6c81f3c-6558-41f8-967c-df6daea993f0"
    },
    {
      "cell_type": "markdown",
      "metadata": {
        "id": "d89fc6a0-41b5-4b49-8548-130415b3e2b7"
      },
      "source": [
        "**Clustering**\n",
        "\n",
        "Because each file has 20 000 - 50 000 rows, use clustering to gather parts together, however, always keep together groups of organisms and in graphs, distinguish colors.\n",
        "\n",
        "Aves\n",
        "\n",
        "Crustacea\n",
        "\n",
        "Mammalia\n",
        "\n",
        "Molusca\n",
        "\n",
        "Osteychthyes\n",
        "\n",
        "For logic of clustering use several differen methods\n",
        "e.g. PCA, K-means, T-SNE, try vectorizing (DBSCAN etc.)\n",
        "\n",
        "Try Tool e.g. umap -  https://pair-code.github.io/understanding-umap/"
      ],
      "id": "d89fc6a0-41b5-4b49-8548-130415b3e2b7"
    },
    {
      "cell_type": "markdown",
      "metadata": {
        "id": "7492cd0e-64b7-499d-b820-07e9f6d18930"
      },
      "source": [
        "**Make 3D graphs**\n",
        "\n",
        "See examples"
      ],
      "id": "7492cd0e-64b7-499d-b820-07e9f6d18930"
    },
    {
      "cell_type": "markdown",
      "metadata": {
        "id": "f08adbc4-7b7e-49e5-b0b4-70af4188ca79"
      },
      "source": [
        "![2D graph](https://github.com/MartaVohnoutovaBukovec/IOS-655-Python-a-Bash/blob/master/clusterENcGC3.png?raw=true \"2D graph\")"
      ],
      "id": "f08adbc4-7b7e-49e5-b0b4-70af4188ca79"
    },
    {
      "cell_type": "markdown",
      "metadata": {
        "id": "1e575fb7-3988-4e2c-b757-d8e6fc6605bf"
      },
      "source": [
        "![3D graph](https://github.com/MartaVohnoutovaBukovec/IOS-655-Python-a-Bash/blob/master/clusterGC1GC2GC3.png?raw=true \"3D graph\")"
      ],
      "id": "1e575fb7-3988-4e2c-b757-d8e6fc6605bf"
    },
    {
      "cell_type": "markdown",
      "metadata": {
        "id": "c2e69669-861c-40ef-a348-468e509df03a"
      },
      "source": [
        "You can use either 3D and/or 2D graphs and try combine columns\n",
        "\n",
        "|GC%|\tENc|\tGC1|\tGC2|\tGC3|\n",
        "|---|---|---|---|---|"
      ],
      "id": "c2e69669-861c-40ef-a348-468e509df03a"
    },
    {
      "cell_type": "markdown",
      "metadata": {
        "id": "4e7cb883-8aaa-464f-a817-5574879b4862"
      },
      "source": [
        "Play with data and try to find out relations. Take different combinations of different parameters such as,\n",
        "\n",
        "*   GC and GC3\n",
        "*   (GC1+GC2)/2 and GC3\n",
        "*   GC3 and ENC\n",
        "*   GC and ENC\n",
        "\n",
        "In the end, make some conclusion, summarize it."
      ],
      "id": "4e7cb883-8aaa-464f-a817-5574879b4862"
    }
  ],
  "metadata": {
    "colab": {
      "provenance": []
    },
    "kernelspec": {
      "display_name": "evan",
      "language": "python",
      "name": "evan"
    },
    "language_info": {
      "codemirror_mode": {
        "name": "ipython",
        "version": 3
      },
      "file_extension": ".py",
      "mimetype": "text/x-python",
      "name": "python",
      "nbconvert_exporter": "python",
      "pygments_lexer": "ipython3",
      "version": "3.9.13"
    }
  },
  "nbformat": 4,
  "nbformat_minor": 5
}